{
 "cells": [
  {
   "cell_type": "code",
   "execution_count": 1,
   "metadata": {},
   "outputs": [],
   "source": [
    "import numpy as np\n",
    "import matplotlib.pyplot as plt"
   ]
  },
  {
   "cell_type": "code",
   "execution_count": 12,
   "metadata": {},
   "outputs": [],
   "source": [
    "from hsmmlearn.hsmm import MultinomialHSMM"
   ]
  },
  {
   "cell_type": "code",
   "execution_count": 13,
   "metadata": {},
   "outputs": [
    {
     "data": {
      "text/plain": [
       "(True, -300.20859875397434)"
      ]
     },
     "execution_count": 13,
     "metadata": {},
     "output_type": "execute_result"
    }
   ],
   "source": [
    "test_emit = np.array([\n",
    "    [0.1, 0.3, 0.6],\n",
    "    [0.6, 0.3, 0.1],\n",
    "    [0.2, 0.6, 0.2]\n",
    "])\n",
    "\n",
    "test_dur = np.random.rand(3,10)\n",
    "row_sums = test_dur.sum(axis = 1)\n",
    "test_dur = test_dur / row_sums[:, np.newaxis]\n",
    "\n",
    "tmat = np.array([\n",
    "    [0., .5, .5],\n",
    "    [.5, 0., .5],\n",
    "    [.5, .5, 0.]\n",
    "])\n",
    "\n",
    "test = MultinomialHSMM(test_emit, test_dur, tmat)\n",
    "\n",
    "obs, states = test.sample(300)\n",
    " \n",
    "equal_prob_emission = np.full((3, 3), 1.0/3)\n",
    "\n",
    "durations = np.random.rand(3,10)\n",
    "row_sums = durations.sum(axis = 1)\n",
    "durations = durations / row_sums[:, np.newaxis]\n",
    "\n",
    "hsmm = MultinomialHSMM(equal_prob_emission, durations, tmat)\n",
    "\n",
    "hsmm.fit(obs, max_iter = 100)\n"
   ]
  },
  {
   "cell_type": "code",
   "execution_count": 26,
   "metadata": {},
   "outputs": [
    {
     "data": {
      "text/plain": [
       "array([2, 2, 2, 2, 2, 2, 2, 2, 2, 2, 1, 1, 1, 1, 1, 1, 2, 2, 2, 2, 2, 2,\n",
       "       2, 2, 0, 0, 1, 1, 1, 1, 1, 1, 0, 0, 1, 1, 2, 2, 2, 2, 2, 2, 1, 1,\n",
       "       1, 1, 1, 1, 1, 1, 0, 0, 1, 1, 2, 2, 2, 2, 2, 2, 0, 0, 0, 1, 1, 1,\n",
       "       1, 1, 1, 2, 2, 2, 2, 2, 2, 2, 2, 2, 2, 0, 0, 0, 1, 1, 1, 1, 1, 1,\n",
       "       1, 1, 1, 1, 2, 2, 2, 2, 2, 2, 0, 0, 0, 0, 0, 0, 0, 0, 0, 1, 1, 1,\n",
       "       1, 1, 1, 0, 0, 0, 1, 1, 0, 0, 1, 0, 0, 1, 1, 1, 1, 1, 1, 2, 2, 2,\n",
       "       2, 2, 2, 0, 0, 0, 1, 1, 1, 1, 1, 1, 0, 0, 0, 0, 0, 1, 1, 1, 1, 1,\n",
       "       1, 1, 1, 1, 1, 2, 2, 2, 2, 2, 2, 1, 1, 1, 1, 1, 1, 2, 2, 2, 2, 2,\n",
       "       2, 2, 2, 2, 2, 0, 1, 1, 1, 1, 1, 1, 1, 1, 1, 1, 2, 2, 2, 2, 2, 2,\n",
       "       1, 1, 1, 1, 1, 1, 0, 1, 1, 1, 1, 1, 1, 0, 0, 1, 1, 0, 0, 0, 1, 1,\n",
       "       1, 1, 1, 1, 1, 1, 0, 0, 1, 1, 2, 2, 2, 2, 2, 2, 2, 2, 2, 2, 1, 1,\n",
       "       1, 1, 1, 1, 0, 0, 1, 1, 1, 1, 1, 1, 0, 0, 0, 1, 0, 0, 0, 0, 0, 0,\n",
       "       0, 0, 0, 1, 2, 2, 2, 2, 2, 2, 0, 0, 0, 0, 0, 0, 0, 0, 0, 1, 0, 0,\n",
       "       0, 0, 0, 0, 0, 0, 0, 1, 1, 1, 1, 1, 1, 0], dtype=int32)"
      ]
     },
     "execution_count": 26,
     "metadata": {},
     "output_type": "execute_result"
    }
   ],
   "source": [
    "hsmm.decode(obs)"
   ]
  },
  {
   "cell_type": "code",
   "execution_count": null,
   "metadata": {},
   "outputs": [],
   "source": []
  },
  {
   "cell_type": "code",
   "execution_count": 20,
   "metadata": {},
   "outputs": [
    {
     "data": {
      "text/plain": [
       "array([[0.0163345 , 0.1178509 , 0.11242012, 0.13208317, 0.07589925,\n",
       "        0.21066428, 0.09146651, 0.11714379, 0.07446642, 0.05167105],\n",
       "       [0.16590349, 0.07256523, 0.04765083, 0.14622678, 0.14637821,\n",
       "        0.11544857, 0.0516849 , 0.10717036, 0.10109842, 0.0458732 ],\n",
       "       [0.1548717 , 0.08287451, 0.13514355, 0.01086883, 0.16184778,\n",
       "        0.07769839, 0.05645711, 0.06920526, 0.11568282, 0.13535006]])"
      ]
     },
     "execution_count": 20,
     "metadata": {},
     "output_type": "execute_result"
    }
   ],
   "source": [
    "test_dur"
   ]
  },
  {
   "cell_type": "code",
   "execution_count": null,
   "metadata": {},
   "outputs": [],
   "source": []
  }
 ],
 "metadata": {
  "kernelspec": {
   "display_name": "Python 3.8.13 ('uav_hsmm')",
   "language": "python",
   "name": "python3"
  },
  "language_info": {
   "codemirror_mode": {
    "name": "ipython",
    "version": 3
   },
   "file_extension": ".py",
   "mimetype": "text/x-python",
   "name": "python",
   "nbconvert_exporter": "python",
   "pygments_lexer": "ipython3",
   "version": "3.8.13"
  },
  "orig_nbformat": 4,
  "vscode": {
   "interpreter": {
    "hash": "28bbedec32fb1ef7515649e69dc73c456950751ea3f2c855cce4a1142c98175d"
   }
  }
 },
 "nbformat": 4,
 "nbformat_minor": 2
}
